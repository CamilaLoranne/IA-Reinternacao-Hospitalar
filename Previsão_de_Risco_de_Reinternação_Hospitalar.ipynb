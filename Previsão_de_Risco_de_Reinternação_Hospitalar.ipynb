{
  "nbformat": 4,
  "nbformat_minor": 0,
  "metadata": {
    "colab": {
      "provenance": [],
      "authorship_tag": "ABX9TyOS/s7VsAdRHdvMWThB+Gjq",
      "include_colab_link": true
    },
    "kernelspec": {
      "name": "python3",
      "display_name": "Python 3"
    },
    "language_info": {
      "name": "python"
    }
  },
  "cells": [
    {
      "cell_type": "markdown",
      "metadata": {
        "id": "view-in-github",
        "colab_type": "text"
      },
      "source": [
        "<a href=\"https://colab.research.google.com/github/CamilaLoranne/IA-Reinternacao-Hospitalar/blob/main/Previs%C3%A3o_de_Risco_de_Reinterna%C3%A7%C3%A3o_Hospitalar.ipynb\" target=\"_parent\"><img src=\"https://colab.research.google.com/assets/colab-badge.svg\" alt=\"Open In Colab\"/></a>"
      ]
    },
    {
      "cell_type": "markdown",
      "source": [
        "# Projeto de IA Supervisionada: Predição de Reinternação Hospitalar\n",
        "\n",
        "\n",
        "# Objetivo do Projeto\n",
        "\n",
        "\n",
        "Este projeto utiliza algoritmos de aprendizado supervisionado para prever se um paciente será reinternado em até 30 dias após a alta hospitalar. O objetivo é fornecer uma ferramenta de apoio à decisão clínica, contribuindo para reduzir taxas de reinternação e melhorar o cuidado contínuo.\n"
      ],
      "metadata": {
        "id": "OFKdromBy8lJ"
      }
    },
    {
      "cell_type": "code",
      "execution_count": 61,
      "metadata": {
        "colab": {
          "base_uri": "https://localhost:8080/",
          "height": 258
        },
        "id": "LDjcyRdVBbsU",
        "outputId": "bc1e8da7-10ca-4fdc-ae2a-01971ddb1a1f"
      },
      "outputs": [
        {
          "output_type": "execute_result",
          "data": {
            "text/plain": [
              "   id_paciente  idade sexo                                     comorbidades  \\\n",
              "0            1     88    M  Alzheimer, insuficiência cardíaca, doença renal   \n",
              "1            2     78    F                                             DPOC   \n",
              "2            3     64    F                                        Alzheimer   \n",
              "3            4     92    F     doença renal, câncer, insuficiência cardíaca   \n",
              "4            5     57    F                                     câncer, DPOC   \n",
              "\n",
              "   tempo_internacao(em dias)        mobilidade fisioterapia_realizada  \\\n",
              "0                         10       deambulando                    sim   \n",
              "1                          9       deambulando                    sim   \n",
              "2                          5       deambulando                    não   \n",
              "3                          4  cadeira de rodas                    sim   \n",
              "4                          9       deambulando                    sim   \n",
              "\n",
              "   numero_medicamentos alta_para_casa  reinternado_30dias  \n",
              "0                    6            não                   0  \n",
              "1                   14            não                   0  \n",
              "2                   11            sim                   0  \n",
              "3                   10            sim                   0  \n",
              "4                   13            sim                   0  "
            ],
            "text/html": [
              "\n",
              "  <div id=\"df-7f1aa1dd-9583-4e91-b488-ef62ab446df4\" class=\"colab-df-container\">\n",
              "    <div>\n",
              "<style scoped>\n",
              "    .dataframe tbody tr th:only-of-type {\n",
              "        vertical-align: middle;\n",
              "    }\n",
              "\n",
              "    .dataframe tbody tr th {\n",
              "        vertical-align: top;\n",
              "    }\n",
              "\n",
              "    .dataframe thead th {\n",
              "        text-align: right;\n",
              "    }\n",
              "</style>\n",
              "<table border=\"1\" class=\"dataframe\">\n",
              "  <thead>\n",
              "    <tr style=\"text-align: right;\">\n",
              "      <th></th>\n",
              "      <th>id_paciente</th>\n",
              "      <th>idade</th>\n",
              "      <th>sexo</th>\n",
              "      <th>comorbidades</th>\n",
              "      <th>tempo_internacao(em dias)</th>\n",
              "      <th>mobilidade</th>\n",
              "      <th>fisioterapia_realizada</th>\n",
              "      <th>numero_medicamentos</th>\n",
              "      <th>alta_para_casa</th>\n",
              "      <th>reinternado_30dias</th>\n",
              "    </tr>\n",
              "  </thead>\n",
              "  <tbody>\n",
              "    <tr>\n",
              "      <th>0</th>\n",
              "      <td>1</td>\n",
              "      <td>88</td>\n",
              "      <td>M</td>\n",
              "      <td>Alzheimer, insuficiência cardíaca, doença renal</td>\n",
              "      <td>10</td>\n",
              "      <td>deambulando</td>\n",
              "      <td>sim</td>\n",
              "      <td>6</td>\n",
              "      <td>não</td>\n",
              "      <td>0</td>\n",
              "    </tr>\n",
              "    <tr>\n",
              "      <th>1</th>\n",
              "      <td>2</td>\n",
              "      <td>78</td>\n",
              "      <td>F</td>\n",
              "      <td>DPOC</td>\n",
              "      <td>9</td>\n",
              "      <td>deambulando</td>\n",
              "      <td>sim</td>\n",
              "      <td>14</td>\n",
              "      <td>não</td>\n",
              "      <td>0</td>\n",
              "    </tr>\n",
              "    <tr>\n",
              "      <th>2</th>\n",
              "      <td>3</td>\n",
              "      <td>64</td>\n",
              "      <td>F</td>\n",
              "      <td>Alzheimer</td>\n",
              "      <td>5</td>\n",
              "      <td>deambulando</td>\n",
              "      <td>não</td>\n",
              "      <td>11</td>\n",
              "      <td>sim</td>\n",
              "      <td>0</td>\n",
              "    </tr>\n",
              "    <tr>\n",
              "      <th>3</th>\n",
              "      <td>4</td>\n",
              "      <td>92</td>\n",
              "      <td>F</td>\n",
              "      <td>doença renal, câncer, insuficiência cardíaca</td>\n",
              "      <td>4</td>\n",
              "      <td>cadeira de rodas</td>\n",
              "      <td>sim</td>\n",
              "      <td>10</td>\n",
              "      <td>sim</td>\n",
              "      <td>0</td>\n",
              "    </tr>\n",
              "    <tr>\n",
              "      <th>4</th>\n",
              "      <td>5</td>\n",
              "      <td>57</td>\n",
              "      <td>F</td>\n",
              "      <td>câncer, DPOC</td>\n",
              "      <td>9</td>\n",
              "      <td>deambulando</td>\n",
              "      <td>sim</td>\n",
              "      <td>13</td>\n",
              "      <td>sim</td>\n",
              "      <td>0</td>\n",
              "    </tr>\n",
              "  </tbody>\n",
              "</table>\n",
              "</div>\n",
              "    <div class=\"colab-df-buttons\">\n",
              "\n",
              "  <div class=\"colab-df-container\">\n",
              "    <button class=\"colab-df-convert\" onclick=\"convertToInteractive('df-7f1aa1dd-9583-4e91-b488-ef62ab446df4')\"\n",
              "            title=\"Convert this dataframe to an interactive table.\"\n",
              "            style=\"display:none;\">\n",
              "\n",
              "  <svg xmlns=\"http://www.w3.org/2000/svg\" height=\"24px\" viewBox=\"0 -960 960 960\">\n",
              "    <path d=\"M120-120v-720h720v720H120Zm60-500h600v-160H180v160Zm220 220h160v-160H400v160Zm0 220h160v-160H400v160ZM180-400h160v-160H180v160Zm440 0h160v-160H620v160ZM180-180h160v-160H180v160Zm440 0h160v-160H620v160Z\"/>\n",
              "  </svg>\n",
              "    </button>\n",
              "\n",
              "  <style>\n",
              "    .colab-df-container {\n",
              "      display:flex;\n",
              "      gap: 12px;\n",
              "    }\n",
              "\n",
              "    .colab-df-convert {\n",
              "      background-color: #E8F0FE;\n",
              "      border: none;\n",
              "      border-radius: 50%;\n",
              "      cursor: pointer;\n",
              "      display: none;\n",
              "      fill: #1967D2;\n",
              "      height: 32px;\n",
              "      padding: 0 0 0 0;\n",
              "      width: 32px;\n",
              "    }\n",
              "\n",
              "    .colab-df-convert:hover {\n",
              "      background-color: #E2EBFA;\n",
              "      box-shadow: 0px 1px 2px rgba(60, 64, 67, 0.3), 0px 1px 3px 1px rgba(60, 64, 67, 0.15);\n",
              "      fill: #174EA6;\n",
              "    }\n",
              "\n",
              "    .colab-df-buttons div {\n",
              "      margin-bottom: 4px;\n",
              "    }\n",
              "\n",
              "    [theme=dark] .colab-df-convert {\n",
              "      background-color: #3B4455;\n",
              "      fill: #D2E3FC;\n",
              "    }\n",
              "\n",
              "    [theme=dark] .colab-df-convert:hover {\n",
              "      background-color: #434B5C;\n",
              "      box-shadow: 0px 1px 3px 1px rgba(0, 0, 0, 0.15);\n",
              "      filter: drop-shadow(0px 1px 2px rgba(0, 0, 0, 0.3));\n",
              "      fill: #FFFFFF;\n",
              "    }\n",
              "  </style>\n",
              "\n",
              "    <script>\n",
              "      const buttonEl =\n",
              "        document.querySelector('#df-7f1aa1dd-9583-4e91-b488-ef62ab446df4 button.colab-df-convert');\n",
              "      buttonEl.style.display =\n",
              "        google.colab.kernel.accessAllowed ? 'block' : 'none';\n",
              "\n",
              "      async function convertToInteractive(key) {\n",
              "        const element = document.querySelector('#df-7f1aa1dd-9583-4e91-b488-ef62ab446df4');\n",
              "        const dataTable =\n",
              "          await google.colab.kernel.invokeFunction('convertToInteractive',\n",
              "                                                    [key], {});\n",
              "        if (!dataTable) return;\n",
              "\n",
              "        const docLinkHtml = 'Like what you see? Visit the ' +\n",
              "          '<a target=\"_blank\" href=https://colab.research.google.com/notebooks/data_table.ipynb>data table notebook</a>'\n",
              "          + ' to learn more about interactive tables.';\n",
              "        element.innerHTML = '';\n",
              "        dataTable['output_type'] = 'display_data';\n",
              "        await google.colab.output.renderOutput(dataTable, element);\n",
              "        const docLink = document.createElement('div');\n",
              "        docLink.innerHTML = docLinkHtml;\n",
              "        element.appendChild(docLink);\n",
              "      }\n",
              "    </script>\n",
              "  </div>\n",
              "\n",
              "\n",
              "    <div id=\"df-2d212d0e-c7f4-4744-b3ee-1b556f34aca8\">\n",
              "      <button class=\"colab-df-quickchart\" onclick=\"quickchart('df-2d212d0e-c7f4-4744-b3ee-1b556f34aca8')\"\n",
              "                title=\"Suggest charts\"\n",
              "                style=\"display:none;\">\n",
              "\n",
              "<svg xmlns=\"http://www.w3.org/2000/svg\" height=\"24px\"viewBox=\"0 0 24 24\"\n",
              "     width=\"24px\">\n",
              "    <g>\n",
              "        <path d=\"M19 3H5c-1.1 0-2 .9-2 2v14c0 1.1.9 2 2 2h14c1.1 0 2-.9 2-2V5c0-1.1-.9-2-2-2zM9 17H7v-7h2v7zm4 0h-2V7h2v10zm4 0h-2v-4h2v4z\"/>\n",
              "    </g>\n",
              "</svg>\n",
              "      </button>\n",
              "\n",
              "<style>\n",
              "  .colab-df-quickchart {\n",
              "      --bg-color: #E8F0FE;\n",
              "      --fill-color: #1967D2;\n",
              "      --hover-bg-color: #E2EBFA;\n",
              "      --hover-fill-color: #174EA6;\n",
              "      --disabled-fill-color: #AAA;\n",
              "      --disabled-bg-color: #DDD;\n",
              "  }\n",
              "\n",
              "  [theme=dark] .colab-df-quickchart {\n",
              "      --bg-color: #3B4455;\n",
              "      --fill-color: #D2E3FC;\n",
              "      --hover-bg-color: #434B5C;\n",
              "      --hover-fill-color: #FFFFFF;\n",
              "      --disabled-bg-color: #3B4455;\n",
              "      --disabled-fill-color: #666;\n",
              "  }\n",
              "\n",
              "  .colab-df-quickchart {\n",
              "    background-color: var(--bg-color);\n",
              "    border: none;\n",
              "    border-radius: 50%;\n",
              "    cursor: pointer;\n",
              "    display: none;\n",
              "    fill: var(--fill-color);\n",
              "    height: 32px;\n",
              "    padding: 0;\n",
              "    width: 32px;\n",
              "  }\n",
              "\n",
              "  .colab-df-quickchart:hover {\n",
              "    background-color: var(--hover-bg-color);\n",
              "    box-shadow: 0 1px 2px rgba(60, 64, 67, 0.3), 0 1px 3px 1px rgba(60, 64, 67, 0.15);\n",
              "    fill: var(--button-hover-fill-color);\n",
              "  }\n",
              "\n",
              "  .colab-df-quickchart-complete:disabled,\n",
              "  .colab-df-quickchart-complete:disabled:hover {\n",
              "    background-color: var(--disabled-bg-color);\n",
              "    fill: var(--disabled-fill-color);\n",
              "    box-shadow: none;\n",
              "  }\n",
              "\n",
              "  .colab-df-spinner {\n",
              "    border: 2px solid var(--fill-color);\n",
              "    border-color: transparent;\n",
              "    border-bottom-color: var(--fill-color);\n",
              "    animation:\n",
              "      spin 1s steps(1) infinite;\n",
              "  }\n",
              "\n",
              "  @keyframes spin {\n",
              "    0% {\n",
              "      border-color: transparent;\n",
              "      border-bottom-color: var(--fill-color);\n",
              "      border-left-color: var(--fill-color);\n",
              "    }\n",
              "    20% {\n",
              "      border-color: transparent;\n",
              "      border-left-color: var(--fill-color);\n",
              "      border-top-color: var(--fill-color);\n",
              "    }\n",
              "    30% {\n",
              "      border-color: transparent;\n",
              "      border-left-color: var(--fill-color);\n",
              "      border-top-color: var(--fill-color);\n",
              "      border-right-color: var(--fill-color);\n",
              "    }\n",
              "    40% {\n",
              "      border-color: transparent;\n",
              "      border-right-color: var(--fill-color);\n",
              "      border-top-color: var(--fill-color);\n",
              "    }\n",
              "    60% {\n",
              "      border-color: transparent;\n",
              "      border-right-color: var(--fill-color);\n",
              "    }\n",
              "    80% {\n",
              "      border-color: transparent;\n",
              "      border-right-color: var(--fill-color);\n",
              "      border-bottom-color: var(--fill-color);\n",
              "    }\n",
              "    90% {\n",
              "      border-color: transparent;\n",
              "      border-bottom-color: var(--fill-color);\n",
              "    }\n",
              "  }\n",
              "</style>\n",
              "\n",
              "      <script>\n",
              "        async function quickchart(key) {\n",
              "          const quickchartButtonEl =\n",
              "            document.querySelector('#' + key + ' button');\n",
              "          quickchartButtonEl.disabled = true;  // To prevent multiple clicks.\n",
              "          quickchartButtonEl.classList.add('colab-df-spinner');\n",
              "          try {\n",
              "            const charts = await google.colab.kernel.invokeFunction(\n",
              "                'suggestCharts', [key], {});\n",
              "          } catch (error) {\n",
              "            console.error('Error during call to suggestCharts:', error);\n",
              "          }\n",
              "          quickchartButtonEl.classList.remove('colab-df-spinner');\n",
              "          quickchartButtonEl.classList.add('colab-df-quickchart-complete');\n",
              "        }\n",
              "        (() => {\n",
              "          let quickchartButtonEl =\n",
              "            document.querySelector('#df-2d212d0e-c7f4-4744-b3ee-1b556f34aca8 button');\n",
              "          quickchartButtonEl.style.display =\n",
              "            google.colab.kernel.accessAllowed ? 'block' : 'none';\n",
              "        })();\n",
              "      </script>\n",
              "    </div>\n",
              "\n",
              "    </div>\n",
              "  </div>\n"
            ],
            "application/vnd.google.colaboratory.intrinsic+json": {
              "type": "dataframe",
              "variable_name": "dados",
              "summary": "{\n  \"name\": \"dados\",\n  \"rows\": 1000,\n  \"fields\": [\n    {\n      \"column\": \"id_paciente\",\n      \"properties\": {\n        \"dtype\": \"number\",\n        \"std\": 288,\n        \"min\": 1,\n        \"max\": 1000,\n        \"num_unique_values\": 1000,\n        \"samples\": [\n          522,\n          738,\n          741\n        ],\n        \"semantic_type\": \"\",\n        \"description\": \"\"\n      }\n    },\n    {\n      \"column\": \"idade\",\n      \"properties\": {\n        \"dtype\": \"number\",\n        \"std\": 12,\n        \"min\": 50,\n        \"max\": 94,\n        \"num_unique_values\": 45,\n        \"samples\": [\n          94,\n          86,\n          56\n        ],\n        \"semantic_type\": \"\",\n        \"description\": \"\"\n      }\n    },\n    {\n      \"column\": \"sexo\",\n      \"properties\": {\n        \"dtype\": \"category\",\n        \"num_unique_values\": 2,\n        \"samples\": [\n          \"F\",\n          \"M\"\n        ],\n        \"semantic_type\": \"\",\n        \"description\": \"\"\n      }\n    },\n    {\n      \"column\": \"comorbidades\",\n      \"properties\": {\n        \"dtype\": \"category\",\n        \"num_unique_values\": 324,\n        \"samples\": [\n          \"osteoporose, AVC\",\n          \"diabetes, doen\\u00e7a renal, AVC\"\n        ],\n        \"semantic_type\": \"\",\n        \"description\": \"\"\n      }\n    },\n    {\n      \"column\": \"tempo_internacao(em dias)\",\n      \"properties\": {\n        \"dtype\": \"number\",\n        \"std\": 3,\n        \"min\": 3,\n        \"max\": 14,\n        \"num_unique_values\": 12,\n        \"samples\": [\n          3,\n          13\n        ],\n        \"semantic_type\": \"\",\n        \"description\": \"\"\n      }\n    },\n    {\n      \"column\": \"mobilidade\",\n      \"properties\": {\n        \"dtype\": \"category\",\n        \"num_unique_values\": 3,\n        \"samples\": [\n          \"deambulando\",\n          \"cadeira de rodas\"\n        ],\n        \"semantic_type\": \"\",\n        \"description\": \"\"\n      }\n    },\n    {\n      \"column\": \"fisioterapia_realizada\",\n      \"properties\": {\n        \"dtype\": \"category\",\n        \"num_unique_values\": 2,\n        \"samples\": [\n          \"n\\u00e3o\",\n          \"sim\"\n        ],\n        \"semantic_type\": \"\",\n        \"description\": \"\"\n      }\n    },\n    {\n      \"column\": \"numero_medicamentos\",\n      \"properties\": {\n        \"dtype\": \"number\",\n        \"std\": 2,\n        \"min\": 5,\n        \"max\": 14,\n        \"num_unique_values\": 10,\n        \"samples\": [\n          12,\n          14\n        ],\n        \"semantic_type\": \"\",\n        \"description\": \"\"\n      }\n    },\n    {\n      \"column\": \"alta_para_casa\",\n      \"properties\": {\n        \"dtype\": \"category\",\n        \"num_unique_values\": 2,\n        \"samples\": [\n          \"sim\",\n          \"n\\u00e3o\"\n        ],\n        \"semantic_type\": \"\",\n        \"description\": \"\"\n      }\n    },\n    {\n      \"column\": \"reinternado_30dias\",\n      \"properties\": {\n        \"dtype\": \"number\",\n        \"std\": 0,\n        \"min\": 0,\n        \"max\": 1,\n        \"num_unique_values\": 2,\n        \"samples\": [\n          1,\n          0\n        ],\n        \"semantic_type\": \"\",\n        \"description\": \"\"\n      }\n    }\n  ]\n}"
            }
          },
          "metadata": {},
          "execution_count": 61
        }
      ],
      "source": [
        "import pandas as pd\n",
        "\n",
        "#Carregando os dados\n",
        "dados = pd.read_csv(\"pacientes_hospital_1000.csv\", encoding='latin1', sep=';')\n",
        "dados.head()"
      ]
    },
    {
      "cell_type": "code",
      "source": [
        "#Codificação de variáveis categóricas - transformando variáveis de texto para número\n",
        "from sklearn.preprocessing import LabelEncoder\n",
        "\n",
        "le = LabelEncoder()\n",
        "dados['sexo'] = le.fit_transform(dados['sexo'])\n",
        "dados['mobilidade'] = le.fit_transform(dados['mobilidade'])\n",
        "dados['fisioterapia_realizada'] = le.fit_transform(dados['fisioterapia_realizada'])\n",
        "dados['alta_para_casa'] = le.fit_transform(dados['alta_para_casa'])\n"
      ],
      "metadata": {
        "id": "xEKgdQCvJMY-"
      },
      "execution_count": 62,
      "outputs": []
    },
    {
      "cell_type": "code",
      "source": [
        "#Selecionando os dados para o modelo\n",
        "#Retirando as colunas id_paciente e comorbidades\n",
        "dados_model = dados.drop(columns=['id_paciente', 'comorbidades'])\n",
        "\n",
        "#variáveis de entrada\n",
        "x = dados_model.drop('reinternado_30dias', axis=1)\n",
        "#variável-alvo\n",
        "y = dados_model['reinternado_30dias']"
      ],
      "metadata": {
        "id": "GI4rQiXbM4yW"
      },
      "execution_count": 63,
      "outputs": []
    },
    {
      "cell_type": "markdown",
      "source": [
        "# Divisão entre treino e teste"
      ],
      "metadata": {
        "id": "gAypkTzW7RH-"
      }
    },
    {
      "cell_type": "code",
      "source": [
        "from sklearn.model_selection import train_test_split\n",
        "\n",
        "\n",
        "treino_x, teste_x, treino_y, teste_y = train_test_split(x, y,\n",
        "                                                        test_size=0.2,\n",
        "                                                        stratify=y,\n",
        "                                                        random_state=42)\n",
        "\n",
        "print(f\"Treinaremos com {len(treino_x)} elementos\")\n",
        "print(f\"Testaremos com {len(teste_x)} elementos\")"
      ],
      "metadata": {
        "colab": {
          "base_uri": "https://localhost:8080/"
        },
        "id": "Ru6vvyVsicsk",
        "outputId": "9031f0f4-8b26-4991-a5c5-46b6cbd1c7e1"
      },
      "execution_count": 64,
      "outputs": [
        {
          "output_type": "stream",
          "name": "stdout",
          "text": [
            "Treinaremos com 800 elementos\n",
            "Testaremos com 200 elementos\n"
          ]
        }
      ]
    },
    {
      "cell_type": "markdown",
      "source": [
        "# Ajuste de pesos de classe"
      ],
      "metadata": {
        "id": "ypfbFddj7Ypy"
      }
    },
    {
      "cell_type": "code",
      "source": [
        "import numpy as np\n",
        "from sklearn.utils.class_weight import compute_class_weight\n",
        "\n",
        "classes = np.array([0, 1])  # Converte a lista para numpy array\n",
        "class_weights = compute_class_weight('balanced', classes=classes, y=treino_y)\n",
        "class_weights_dict = {classes[0]: class_weights[0], classes[1]: class_weights[1]}\n"
      ],
      "metadata": {
        "id": "MxZofE9AsYEZ"
      },
      "execution_count": 65,
      "outputs": []
    },
    {
      "cell_type": "markdown",
      "source": [
        "# Treinano o modelo de IA supervisionado"
      ],
      "metadata": {
        "id": "q6raSihN7fZL"
      }
    },
    {
      "cell_type": "code",
      "source": [
        "from sklearn.ensemble import RandomForestClassifier\n",
        "from sklearn.metrics import accuracy_score\n",
        "\n",
        "RandomForestClassifier(n_estimators=100, random_state=42, class_weight=class_weights_dict)\n",
        "modelo.fit(treino_x, treino_y)\n",
        "y_pred = modelo.predict(teste_x)"
      ],
      "metadata": {
        "id": "RyO_9Ychj7k3"
      },
      "execution_count": 66,
      "outputs": []
    },
    {
      "cell_type": "markdown",
      "source": [
        "# Avaliando os resultados"
      ],
      "metadata": {
        "id": "dnNSCYt67i9T"
      }
    },
    {
      "cell_type": "code",
      "source": [
        "from sklearn.metrics import confusion_matrix, classification_report, accuracy_score\n",
        "\n",
        "print(\"Matriz de Confusão:\\n\", confusion_matrix(teste_y, y_pred))\n",
        "print(\"\\nRelatório de Classificação:\\n\", classification_report(teste_y, y_pred))\n",
        "\n",
        "\n",
        "# Acurácia\n",
        "print(f\"Acurácia: {accuracy_score(teste_y, y_pred)}\")\n"
      ],
      "metadata": {
        "colab": {
          "base_uri": "https://localhost:8080/"
        },
        "id": "C48nqKE2nrU2",
        "outputId": "a6a9cdcf-bb16-4835-ecd0-48f5f2f64c0c"
      },
      "execution_count": 67,
      "outputs": [
        {
          "output_type": "stream",
          "name": "stdout",
          "text": [
            "Matriz de Confusão:\n",
            " [[152   9]\n",
            " [ 20  19]]\n",
            "\n",
            "Relatório de Classificação:\n",
            "               precision    recall  f1-score   support\n",
            "\n",
            "           0       0.88      0.94      0.91       161\n",
            "           1       0.68      0.49      0.57        39\n",
            "\n",
            "    accuracy                           0.85       200\n",
            "   macro avg       0.78      0.72      0.74       200\n",
            "weighted avg       0.84      0.85      0.85       200\n",
            "\n",
            "Acurácia: 0.855\n"
          ]
        }
      ]
    },
    {
      "cell_type": "markdown",
      "source": [
        "# Visualizações Exploratórias"
      ],
      "metadata": {
        "id": "zm9VAp2O9NuH"
      }
    },
    {
      "cell_type": "code",
      "source": [
        "# Distribuição da variável alvo\n",
        "sns.countplot(x='reinternado_30dias', data=dados)\n",
        "plt.title('Distribuição da Variável Alvo')\n",
        "plt.xticks([0,1], ['Não', 'Sim'])\n",
        "plt.show()"
      ],
      "metadata": {
        "colab": {
          "base_uri": "https://localhost:8080/",
          "height": 472
        },
        "id": "_6s-7DzR9K0j",
        "outputId": "274c3610-52e2-46e0-8b59-f72be692ef98"
      },
      "execution_count": 71,
      "outputs": [
        {
          "output_type": "display_data",
          "data": {
            "text/plain": [
              "<Figure size 640x480 with 1 Axes>"
            ],
            "image/png": "[encoded data removed]"
          },
          "metadata": {}
        }
      ]
    },
    {
      "cell_type": "markdown",
      "source": [
        "Por que é importante: Ajuda a identificar se os dados estão desbalanceados. Nesse caso, há mais pacientes não reinternados, o que justifica o uso da técnica como class_weight para equilibrar o modelo."
      ],
      "metadata": {
        "id": "vMmsoDsh_IFA"
      }
    },
    {
      "cell_type": "code",
      "source": [
        "# Distribuição da idade\n",
        "sns.histplot(dados['idade'], bins=15, kde=True)\n",
        "plt.title('Distribuição da Idade')\n",
        "plt.xlabel('Idade')\n",
        "plt.ylabel('Frequência')\n",
        "plt.show()"
      ],
      "metadata": {
        "colab": {
          "base_uri": "https://localhost:8080/",
          "height": 472
        },
        "id": "enO3EoSG_Imo",
        "outputId": "a69a1030-ee0e-4331-edcc-f5f445545ee8"
      },
      "execution_count": 72,
      "outputs": [
        {
          "output_type": "display_data",
          "data": {
            "text/plain": [
              "<Figure size 640x480 with 1 Axes>"
            ],
            "image/png": "[encoded data removed]"
          },
          "metadata": {}
        }
      ]
    },
    {
      "cell_type": "markdown",
      "source": [
        "O que o gráfico mostra?\n",
        "A maioria dos pacientes está na faixa dos 50 aos 90 anos, mais precisamente para os grupos entre 50–55 e 75–85 anos, onde possui maior frequência.\n",
        "\n",
        "Por que é relevante?\n",
        "Como a idade avançada é um fator de risco para reinternações hospitalares, essa distribuição indica que o modelo está sendo treinado com uma população-alvo realista e com risco clínico mais elevado — algo esperado em ambientes hospitalares.\n",
        "\n",
        "Insight:\n",
        "O hospital atende majoritariamente pacientes idosos, o que pode justificar estratégias de alta mais robustas para prevenir reinternações nesse grupo."
      ],
      "metadata": {
        "id": "kbd2k7Wx_NvI"
      }
    },
    {
      "cell_type": "code",
      "source": [
        "# Importância das Variáveis\n",
        "importancias = modelo.feature_importances_\n",
        "colunas = x.columns\n",
        "df_importancia = pd.DataFrame({'Variavel': colunas, 'Importancia': importancias})\n",
        "df_importancia = df_importancia.sort_values(by='Importancia', ascending=False)\n",
        "sns.barplot(x='Importancia', y='Variavel', data=df_importancia)\n",
        "plt.title('Importância das Variáveis segundo Random Forest')\n",
        "plt.show()"
      ],
      "metadata": {
        "colab": {
          "base_uri": "https://localhost:8080/",
          "height": 472
        },
        "id": "Ty3WesZn_OR8",
        "outputId": "fab3b53f-b32d-4158-c628-d5a4051d7e8c"
      },
      "execution_count": 73,
      "outputs": [
        {
          "output_type": "display_data",
          "data": {
            "text/plain": [
              "<Figure size 640x480 with 1 Axes>"
            ],
            "image/png": "[encoded data removed]"
          },
          "metadata": {}
        }
      ]
    },
    {
      "cell_type": "markdown",
      "source": [
        "O que o gráfico mostra?\n",
        "Ele exibe o quanto cada variável contribui para a decisão do modelo Random Forest ao prever a reinternação em até 30 dias.\n",
        "\n",
        "Principais variáveis:\n",
        "\n",
        "*Idade foi a variável mais influente — pacientes mais velhos parecem ter maior risco de reinternação.\n",
        "\n",
        "*Tempo de internação também teve alto impacto — internações mais longas podem indicar maior complexidade clínica.\n",
        "\n",
        "*Mobilidade, número de medicamentos e fisioterapia realizada também influenciaram significativamente, sugerindo que aspectos funcionais e terapêuticos são relevantes.\n",
        "\n",
        "Por que é relevante?\n",
        "Essa análise ajuda a explicar por que o modelo faz certas previsões — uma demanda essencial na área da saúde."
      ],
      "metadata": {
        "id": "w_DEZnwtAOe6"
      }
    },
    {
      "cell_type": "markdown",
      "source": [
        "Conclusão e Implicações Clínicas\n",
        "\n",
        "O modelo de Random Forest obteve uma acurácia de cerca de 85% e identificou 49% dos pacientes que foram reinternados.\n",
        "Apesar da boa acurácia geral, o recall da classe minoritária ainda pode ser melhorado.\n",
        "\n",
        "Mesmo assim, o modelo pode servir como um sistema de apoio na triagem hospitalar, indicando pacientes com maior risco de reinternação. Isso pode ajudar na definição de planos de cuidado mais intensivos no momento da alta.\n",
        "\n",
        "Como próximos passos, recomenda-se testar:\n",
        "- Uso de técnicas de oversampling como SMOTE\n",
        "- Ajuste do limiar de decisão do modelo\n",
        "- Teste de outros algoritmos como XGBoost ou LightGBM"
      ],
      "metadata": {
        "id": "egxvutvLz9Jm"
      }
    }
  ]
}